{
 "cells": [
  {
   "cell_type": "code",
   "execution_count": null,
   "metadata": {
    "collapsed": false
   },
   "outputs": [],
   "source": [
    "sqlContext = SQLContext(sc)\n",
    "dd = sqlContext.createDataFrame([\n",
    "  (\"a\", \"Alice\", 34, 1),\n",
    "  (\"b\", \"Bob\", 36, 23),\n",
    "  (\"c\", \"Charlie\", 30, 32),\n",
    "  (\"d\", \"Hector\", 75, 434),\n",
    "  (\"a\", \"Alice\", 34, 1),\n",
    "  (\"b\", \"Bob\", 36, 2),\n",
    "  (\"c\", \"Charlie\", 30, 321),\n",
    "  (\"d\", \"Hector\", 75, 321),\n",
    "  (\"a\", \"Alice\", 34, 123),\n",
    "  (\"b\", \"Bob\", 36, 111),\n",
    "  (\"c\", \"Charlie\", 30, 55),\n",
    "  (\"d\", \"Hector\", 75, 666),\n",
    "  (\"a\", \"Alice\", 34, 77),\n",
    "  (\"b\", \"Bob\", 36, 24),\n",
    "  (\"c\", \"Charlie\", 30, 432),\n",
    "  (\"d\", \"Hector\", 75, 243),\n",
    "  (\"a\", \"Alice\", 34,222),\n",
    "  (\"b\", \"Bob\", 36,111),\n",
    "  (\"c\", \"Charlie\", 30, 1),\n",
    "  (\"d\", \"Hector\")\n",
    "], [\"id\", \"name\", \"age\", \"other\"])\n",
    "dd\n",
    "dd.schema"
   ]
  },
  {
   "cell_type": "code",
   "execution_count": null,
   "metadata": {
    "collapsed": false
   },
   "outputs": [],
   "source": [
    "pdf = dd.toPandas()\n",
    "pdf"
   ]
  },
  {
   "cell_type": "code",
   "execution_count": null,
   "metadata": {
    "collapsed": true
   },
   "outputs": [],
   "source": [
    " def getNumericalFieldNames(entity):\n",
    "    schema = entity.schema\n",
    "    fieldNames = []\n",
    "    for field in schema.fields:\n",
    "        type = field.dataType.__class__.__name__\n",
    "        if ( type ==\"LongType\" or type == \"IntegerType\" ):\n",
    "            fieldNames.append(field.name)\n",
    "    return fieldNames"
   ]
  },
  {
   "cell_type": "code",
   "execution_count": null,
   "metadata": {
    "collapsed": false
   },
   "outputs": [],
   "source": [
    "colNames = getNumericalFieldNames(dd)\n",
    "if len(colNames) == 0:\n",
    "    print(\"No Numeric Columns\")\n",
    "colNames"
   ]
  },
  {
   "cell_type": "code",
   "execution_count": null,
   "metadata": {
    "collapsed": false
   },
   "outputs": [],
   "source": [
    "import mpld3\n",
    "import matplotlib as mpl\n",
    "import matplotlib.pyplot as plt\n",
    "mpld3.enable_notebook()\n",
    "fig, ax = plt.subplots()"
   ]
  },
  {
   "cell_type": "code",
   "execution_count": null,
   "metadata": {
    "collapsed": false
   },
   "outputs": [],
   "source": [
    "MAX_ROWS = 100\n",
    "numRows = min(MAX_ROWS,dd.count())\n",
    "numCols = len(colNames)\n",
    "for i, colName in enumerate(colNames):\n",
    "    xs = list(range(0, numRows))\n",
    "    ys = pdf[colName].tolist()\n",
    "    ax.plot(xs, ys, label=colName)"
   ]
  },
  {
   "cell_type": "code",
   "execution_count": null,
   "metadata": {
    "collapsed": false
   },
   "outputs": [],
   "source": [
    "ax.grid(color='lightgray', alpha=0.7)\n",
    "ax.legend()"
   ]
  },
  {
   "cell_type": "code",
   "execution_count": null,
   "metadata": {
    "collapsed": false
   },
   "outputs": [],
   "source": [
    "# Note: this line not required when used in pixiedust\n",
    "mpld3.display(fig)"
   ]
  },
  {
   "cell_type": "code",
   "execution_count": null,
   "metadata": {
    "collapsed": true
   },
   "outputs": [],
   "source": []
  }
 ],
 "metadata": {
  "kernelspec": {
   "display_name": "Python 2 (Spark 1.6.0)",
   "language": "python",
   "name": "pyspark"
  },
  "language_info": {
   "codemirror_mode": {
    "name": "ipython",
    "version": 2
   },
   "file_extension": ".py",
   "mimetype": "text/x-python",
   "name": "python",
   "nbconvert_exporter": "python",
   "pygments_lexer": "ipython2",
   "version": "2.7.11"
  }
 },
 "nbformat": 4,
 "nbformat_minor": 0
}
