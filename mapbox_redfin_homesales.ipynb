{
 "cells": [
  {
   "cell_type": "markdown",
   "metadata": {},
   "source": [
    "# Million dollar home sales\n",
    "\n",
    "Home sales of $1million and above in Northeastern Massachusetts for the 3 months prior to Jan. 27, 2017. Downloaded from Redfin.com on Jan. 27, 2017."
   ]
  },
  {
   "cell_type": "code",
   "execution_count": null,
   "metadata": {
    "collapsed": false
   },
   "outputs": [],
   "source": [
    "import pixiedust"
   ]
  },
  {
   "cell_type": "code",
   "execution_count": null,
   "metadata": {
    "collapsed": true
   },
   "outputs": [],
   "source": [
    "# Call pixiedust.sampleData() with no params to get a list of sample data sets\n",
    "pixiedust.sampleData()"
   ]
  },
  {
   "cell_type": "code",
   "execution_count": null,
   "metadata": {
    "collapsed": false
   },
   "outputs": [],
   "source": [
    "# Call again with a data set ID to return a pySpark DataFrame of the data\n",
    "home_df = pixiedust.sampleData(6)"
   ]
  },
  {
   "cell_type": "markdown",
   "metadata": {},
   "source": [
    "## Map display\n",
    "The first time you run the main pixiedust visualization command, display(), you get the default visualization, which is a table. Then, from the drop-down menu select \"Map\", and populate the options dialog as follows:\n",
    "- *Keys:* put your latitude and longitude fields here. They must be floating values. These fields must be named latitude, lat or y and longitude, lon or x.\n",
    "- *Values:* the field you want to use to thematically color the map. Only one field can be used.\n",
    "- *Mapbox Access Token:* The token you get from your Mapbox account here: https://www.mapbox.com/studio/signup/"
   ]
  },
  {
   "cell_type": "code",
   "execution_count": null,
   "metadata": {
    "collapsed": false,
    "pixiedust": {
     "displayParams": {
      "aggregation": "SUM",
      "debug": "true",
      "handlerId": "mapView",
      "keyFields": "LATITUDE,LONGITUDE",
      "kind": "chloropleth",
      "rowCount": "400",
      "showLegend": "true",
      "valueFields": "PRICE,BEDS,BATHS,YEAR BUILT,DAYS ON MARKET,LISTING ID"
     }
    },
    "scrolled": false
   },
   "outputs": [],
   "source": [
    "display(home_df)"
   ]
  }
 ],
 "metadata": {
  "kernelspec": {
   "display_name": "pySpark (Spark 1.6.0) Python 2",
   "language": "python",
   "name": "pyspark1.6"
  },
  "language_info": {
   "codemirror_mode": {
    "name": "ipython",
    "version": 2
   },
   "file_extension": ".py",
   "mimetype": "text/x-python",
   "name": "python",
   "nbconvert_exporter": "python",
   "pygments_lexer": "ipython2",
   "version": "2.7.11"
  }
 },
 "nbformat": 4,
 "nbformat_minor": 0
}
