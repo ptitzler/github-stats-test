{
 "cells": [
  {
   "cell_type": "code",
   "execution_count": 2,
   "metadata": {
    "collapsed": false
   },
   "outputs": [
    {
     "name": "stdout",
     "output_type": "stream",
     "text": [
      "Uninstalling pixiedust-0.14:\n",
      "  Successfully uninstalled pixiedust-0.14\n",
      "\u001b[33mYou are using pip version 8.1.1, however version 8.1.2 is available.\n",
      "You should consider upgrading via the 'pip install --upgrade pip' command.\u001b[0m\n"
     ]
    }
   ],
   "source": [
    "# uninstall\n",
    "!pip uninstall -y pixiedust"
   ]
  },
  {
   "cell_type": "code",
   "execution_count": 3,
   "metadata": {
    "collapsed": false,
    "scrolled": true
   },
   "outputs": [
    {
     "name": "stdout",
     "output_type": "stream",
     "text": [
      "Obtaining file:///Users/margriet/GitProjects/pixiedust\n",
      "Requirement already up-to-date: maven-artifact in /Users/margriet/.local/lib/python2.7/site-packages (from pixiedust==0.14)\n",
      "Requirement already up-to-date: mpld3 in /Users/margriet/.local/lib/python2.7/site-packages (from pixiedust==0.14)\n",
      "Requirement already up-to-date: lxml in /anaconda/lib/python2.7/site-packages (from maven-artifact->pixiedust==0.14)\n",
      "Installing collected packages: pixiedust\n",
      "  Running setup.py develop for pixiedust\n",
      "Successfully installed pixiedust\n",
      "\u001b[33mYou are using pip version 8.1.1, however version 8.1.2 is available.\n",
      "You should consider upgrading via the 'pip install --upgrade pip' command.\u001b[0m\n"
     ]
    }
   ],
   "source": [
    "# install latest local version\n",
    "!pip install --user --upgrade -e /Users/margriet/GitProjects/pixiedust"
   ]
  },
  {
   "cell_type": "code",
   "execution_count": 1,
   "metadata": {
    "collapsed": false
   },
   "outputs": [
    {
     "data": {
      "image/png": "[encoded data removed]",
      "text/html": [
       "\n",
       "\n",
       "<style>\n",
       "\n",
       "</style>\n",
       "\n",
       "<div id=\"fig_el6211946605138082082430225\"></div>\n",
       "<script>\n",
       "function mpld3_load_lib(url, callback){\n",
       "  var s = document.createElement('script');\n",
       "  s.src = url;\n",
       "  s.async = true;\n",
       "  s.onreadystatechange = s.onload = callback;\n",
       "  s.onerror = function(){console.warn(\"failed to load library \" + url);};\n",
       "  document.getElementsByTagName(\"head\")[0].appendChild(s);\n",
       "}\n",
       "\n",
       "if(typeof(mpld3) !== \"undefined\" && mpld3._mpld3IsLoaded){\n",
       "   // already loaded: just create the figure\n",
       "   !function(mpld3){\n",
       "       \n",
       "       mpld3.draw_figure(\"fig_el6211946605138082082430225\", {\"axes\": [{\"xlim\": [20.0, 80.0], \"yscale\": \"linear\", \"axesbg\": \"#EEEEEE\", \"texts\": [{\"v_baseline\": \"hanging\", \"h_anchor\": \"middle\", \"color\": \"#000000\", \"text\": \"age\", \"coordinates\": \"axes\", \"zorder\": 3, \"alpha\": 1, \"fontsize\": 14.0, \"position\": [0.5, -0.074193548387096769], \"rotation\": -0.0, \"id\": \"el621194660877840\"}, {\"v_baseline\": \"auto\", \"h_anchor\": \"middle\", \"color\": \"#000000\", \"text\": \"weight\", \"coordinates\": \"axes\", \"zorder\": 3, \"alpha\": 1, \"fontsize\": 14.0, \"position\": [-0.089381720430107517, 0.5], \"rotation\": -90.0, \"id\": \"el621194661032912\"}, {\"v_baseline\": \"auto\", \"h_anchor\": \"middle\", \"color\": \"#000000\", \"text\": \"D3 Scatter Plot\", \"coordinates\": \"axes\", \"zorder\": 3, \"alpha\": 1, \"fontsize\": 18.0, \"position\": [0.5, 1.0179211469534051], \"rotation\": -0.0, \"id\": \"el621194661033168\"}], \"zoomable\": true, \"images\": [], \"xdomain\": [20.0, 80.0], \"ylim\": [20.0, 180.0], \"paths\": [], \"sharey\": [], \"sharex\": [], \"axesbgalpha\": null, \"axes\": [{\"scale\": \"linear\", \"tickformat\": null, \"grid\": {\"color\": \"#FFFFFF\", \"alpha\": 1.0, \"dasharray\": \"10,0\", \"gridOn\": true}, \"fontsize\": 11.0, \"position\": \"bottom\", \"nticks\": 7, \"tickvalues\": null}, {\"scale\": \"linear\", \"tickformat\": null, \"grid\": {\"color\": \"#FFFFFF\", \"alpha\": 1.0, \"dasharray\": \"10,0\", \"gridOn\": true}, \"fontsize\": 11.0, \"position\": \"left\", \"nticks\": 9, \"tickvalues\": null}], \"lines\": [], \"markers\": [], \"id\": \"el621194660875856\", \"ydomain\": [20.0, 180.0], \"collections\": [{\"paths\": [[[[0.0, -0.5], [0.13260155, -0.5], [0.25978993539242673, -0.44731684579412084], [0.3535533905932738, -0.3535533905932738], [0.44731684579412084, -0.25978993539242673], [0.5, -0.13260155], [0.5, 0.0], [0.5, 0.13260155], [0.44731684579412084, 0.25978993539242673], [0.3535533905932738, 0.3535533905932738], [0.25978993539242673, 0.44731684579412084], [0.13260155, 0.5], [0.0, 0.5], [-0.13260155, 0.5], [-0.25978993539242673, 0.44731684579412084], [-0.3535533905932738, 0.3535533905932738], [-0.44731684579412084, 0.25978993539242673], [-0.5, 0.13260155], [-0.5, 0.0], [-0.5, -0.13260155], [-0.44731684579412084, -0.25978993539242673], [-0.3535533905932738, -0.3535533905932738], [-0.25978993539242673, -0.44731684579412084], [-0.13260155, -0.5], [0.0, -0.5]], [\"M\", \"C\", \"C\", \"C\", \"C\", \"C\", \"C\", \"C\", \"C\", \"Z\"]]], \"edgecolors\": [\"#000000\"], \"edgewidths\": [1.0], \"offsets\": \"data01\", \"yindex\": 1, \"id\": \"el621194698170960\", \"pathtransforms\": [[12.372809695177827, 0.0, 0.0, 12.372809695177827, 0.0, 0.0]], \"pathcoordinates\": \"display\", \"offsetcoordinates\": \"data\", \"zorder\": 1, \"xindex\": 0, \"alphas\": [0.7], \"facecolors\": [\"#004924\", \"#00273B\", \"#003B7D\", \"#001361\", \"#007F00\", \"#005E93\", \"#00571B\", \"#003B7D\", \"#002E36\", \"#FFFFFF\", \"#001966\", \"#003C2C\", \"#007C02\", \"#003579\", \"#000B5D\", \"#000750\", \"#003F2B\", \"#004080\", \"#000B5D\", \"#001C41\"]}], \"xscale\": \"linear\", \"bbox\": [0.125, 0.125, 0.77500000000000002, 0.77500000000000002]}], \"height\": 400.0, \"width\": 480.0, \"plugins\": [{\"type\": \"reset\"}, {\"enabled\": false, \"button\": true, \"type\": \"zoom\"}, {\"enabled\": false, \"button\": true, \"type\": \"boxzoom\"}], \"data\": {\"data01\": [[34.0, 60.0], [36.0, 70.0], [30.0, 99.0], [75.0, 87.0], [34.0, 44.0], [36.0, 109.0], [30.0, 56.0], [75.0, 99.0], [34.0, 68.0], [36.0, 156.0], [30.0, 89.0], [75.0, 64.0], [34.0, 45.0], [36.0, 97.0], [30.0, 85.0], [75.0, 79.0], [34.0, 63.0], [36.0, 100.0], [30.0, 85.0], [75.0, 73.0]]}, \"id\": \"el621194660513808\"});\n",
       "   }(mpld3);\n",
       "}else if(typeof define === \"function\" && define.amd){\n",
       "   // require.js is available: use it to load d3/mpld3\n",
       "   require.config({paths: {d3: \"https://mpld3.github.io/js/d3.v3.min\"}});\n",
       "   require([\"d3\"], function(d3){\n",
       "      window.d3 = d3;\n",
       "      mpld3_load_lib(\"https://mpld3.github.io/js/mpld3.v0.2.js\", function(){\n",
       "         \n",
       "         mpld3.draw_figure(\"fig_el6211946605138082082430225\", {\"axes\": [{\"xlim\": [20.0, 80.0], \"yscale\": \"linear\", \"axesbg\": \"#EEEEEE\", \"texts\": [{\"v_baseline\": \"hanging\", \"h_anchor\": \"middle\", \"color\": \"#000000\", \"text\": \"age\", \"coordinates\": \"axes\", \"zorder\": 3, \"alpha\": 1, \"fontsize\": 14.0, \"position\": [0.5, -0.074193548387096769], \"rotation\": -0.0, \"id\": \"el621194660877840\"}, {\"v_baseline\": \"auto\", \"h_anchor\": \"middle\", \"color\": \"#000000\", \"text\": \"weight\", \"coordinates\": \"axes\", \"zorder\": 3, \"alpha\": 1, \"fontsize\": 14.0, \"position\": [-0.089381720430107517, 0.5], \"rotation\": -90.0, \"id\": \"el621194661032912\"}, {\"v_baseline\": \"auto\", \"h_anchor\": \"middle\", \"color\": \"#000000\", \"text\": \"D3 Scatter Plot\", \"coordinates\": \"axes\", \"zorder\": 3, \"alpha\": 1, \"fontsize\": 18.0, \"position\": [0.5, 1.0179211469534051], \"rotation\": -0.0, \"id\": \"el621194661033168\"}], \"zoomable\": true, \"images\": [], \"xdomain\": [20.0, 80.0], \"ylim\": [20.0, 180.0], \"paths\": [], \"sharey\": [], \"sharex\": [], \"axesbgalpha\": null, \"axes\": [{\"scale\": \"linear\", \"tickformat\": null, \"grid\": {\"color\": \"#FFFFFF\", \"alpha\": 1.0, \"dasharray\": \"10,0\", \"gridOn\": true}, \"fontsize\": 11.0, \"position\": \"bottom\", \"nticks\": 7, \"tickvalues\": null}, {\"scale\": \"linear\", \"tickformat\": null, \"grid\": {\"color\": \"#FFFFFF\", \"alpha\": 1.0, \"dasharray\": \"10,0\", \"gridOn\": true}, \"fontsize\": 11.0, \"position\": \"left\", \"nticks\": 9, \"tickvalues\": null}], \"lines\": [], \"markers\": [], \"id\": \"el621194660875856\", \"ydomain\": [20.0, 180.0], \"collections\": [{\"paths\": [[[[0.0, -0.5], [0.13260155, -0.5], [0.25978993539242673, -0.44731684579412084], [0.3535533905932738, -0.3535533905932738], [0.44731684579412084, -0.25978993539242673], [0.5, -0.13260155], [0.5, 0.0], [0.5, 0.13260155], [0.44731684579412084, 0.25978993539242673], [0.3535533905932738, 0.3535533905932738], [0.25978993539242673, 0.44731684579412084], [0.13260155, 0.5], [0.0, 0.5], [-0.13260155, 0.5], [-0.25978993539242673, 0.44731684579412084], [-0.3535533905932738, 0.3535533905932738], [-0.44731684579412084, 0.25978993539242673], [-0.5, 0.13260155], [-0.5, 0.0], [-0.5, -0.13260155], [-0.44731684579412084, -0.25978993539242673], [-0.3535533905932738, -0.3535533905932738], [-0.25978993539242673, -0.44731684579412084], [-0.13260155, -0.5], [0.0, -0.5]], [\"M\", \"C\", \"C\", \"C\", \"C\", \"C\", \"C\", \"C\", \"C\", \"Z\"]]], \"edgecolors\": [\"#000000\"], \"edgewidths\": [1.0], \"offsets\": \"data01\", \"yindex\": 1, \"id\": \"el621194698170960\", \"pathtransforms\": [[12.372809695177827, 0.0, 0.0, 12.372809695177827, 0.0, 0.0]], \"pathcoordinates\": \"display\", \"offsetcoordinates\": \"data\", \"zorder\": 1, \"xindex\": 0, \"alphas\": [0.7], \"facecolors\": [\"#004924\", \"#00273B\", \"#003B7D\", \"#001361\", \"#007F00\", \"#005E93\", \"#00571B\", \"#003B7D\", \"#002E36\", \"#FFFFFF\", \"#001966\", \"#003C2C\", \"#007C02\", \"#003579\", \"#000B5D\", \"#000750\", \"#003F2B\", \"#004080\", \"#000B5D\", \"#001C41\"]}], \"xscale\": \"linear\", \"bbox\": [0.125, 0.125, 0.77500000000000002, 0.77500000000000002]}], \"height\": 400.0, \"width\": 480.0, \"plugins\": [{\"type\": \"reset\"}, {\"enabled\": false, \"button\": true, \"type\": \"zoom\"}, {\"enabled\": false, \"button\": true, \"type\": \"boxzoom\"}], \"data\": {\"data01\": [[34.0, 60.0], [36.0, 70.0], [30.0, 99.0], [75.0, 87.0], [34.0, 44.0], [36.0, 109.0], [30.0, 56.0], [75.0, 99.0], [34.0, 68.0], [36.0, 156.0], [30.0, 89.0], [75.0, 64.0], [34.0, 45.0], [36.0, 97.0], [30.0, 85.0], [75.0, 79.0], [34.0, 63.0], [36.0, 100.0], [30.0, 85.0], [75.0, 73.0]]}, \"id\": \"el621194660513808\"});\n",
       "      });\n",
       "    });\n",
       "}else{\n",
       "    // require.js not available: dynamically load d3 & mpld3\n",
       "    mpld3_load_lib(\"https://mpld3.github.io/js/d3.v3.min.js\", function(){\n",
       "         mpld3_load_lib(\"https://mpld3.github.io/js/mpld3.v0.2.js\", function(){\n",
       "                 \n",
       "                 mpld3.draw_figure(\"fig_el6211946605138082082430225\", {\"axes\": [{\"xlim\": [20.0, 80.0], \"yscale\": \"linear\", \"axesbg\": \"#EEEEEE\", \"texts\": [{\"v_baseline\": \"hanging\", \"h_anchor\": \"middle\", \"color\": \"#000000\", \"text\": \"age\", \"coordinates\": \"axes\", \"zorder\": 3, \"alpha\": 1, \"fontsize\": 14.0, \"position\": [0.5, -0.074193548387096769], \"rotation\": -0.0, \"id\": \"el621194660877840\"}, {\"v_baseline\": \"auto\", \"h_anchor\": \"middle\", \"color\": \"#000000\", \"text\": \"weight\", \"coordinates\": \"axes\", \"zorder\": 3, \"alpha\": 1, \"fontsize\": 14.0, \"position\": [-0.089381720430107517, 0.5], \"rotation\": -90.0, \"id\": \"el621194661032912\"}, {\"v_baseline\": \"auto\", \"h_anchor\": \"middle\", \"color\": \"#000000\", \"text\": \"D3 Scatter Plot\", \"coordinates\": \"axes\", \"zorder\": 3, \"alpha\": 1, \"fontsize\": 18.0, \"position\": [0.5, 1.0179211469534051], \"rotation\": -0.0, \"id\": \"el621194661033168\"}], \"zoomable\": true, \"images\": [], \"xdomain\": [20.0, 80.0], \"ylim\": [20.0, 180.0], \"paths\": [], \"sharey\": [], \"sharex\": [], \"axesbgalpha\": null, \"axes\": [{\"scale\": \"linear\", \"tickformat\": null, \"grid\": {\"color\": \"#FFFFFF\", \"alpha\": 1.0, \"dasharray\": \"10,0\", \"gridOn\": true}, \"fontsize\": 11.0, \"position\": \"bottom\", \"nticks\": 7, \"tickvalues\": null}, {\"scale\": \"linear\", \"tickformat\": null, \"grid\": {\"color\": \"#FFFFFF\", \"alpha\": 1.0, \"dasharray\": \"10,0\", \"gridOn\": true}, \"fontsize\": 11.0, \"position\": \"left\", \"nticks\": 9, \"tickvalues\": null}], \"lines\": [], \"markers\": [], \"id\": \"el621194660875856\", \"ydomain\": [20.0, 180.0], \"collections\": [{\"paths\": [[[[0.0, -0.5], [0.13260155, -0.5], [0.25978993539242673, -0.44731684579412084], [0.3535533905932738, -0.3535533905932738], [0.44731684579412084, -0.25978993539242673], [0.5, -0.13260155], [0.5, 0.0], [0.5, 0.13260155], [0.44731684579412084, 0.25978993539242673], [0.3535533905932738, 0.3535533905932738], [0.25978993539242673, 0.44731684579412084], [0.13260155, 0.5], [0.0, 0.5], [-0.13260155, 0.5], [-0.25978993539242673, 0.44731684579412084], [-0.3535533905932738, 0.3535533905932738], [-0.44731684579412084, 0.25978993539242673], [-0.5, 0.13260155], [-0.5, 0.0], [-0.5, -0.13260155], [-0.44731684579412084, -0.25978993539242673], [-0.3535533905932738, -0.3535533905932738], [-0.25978993539242673, -0.44731684579412084], [-0.13260155, -0.5], [0.0, -0.5]], [\"M\", \"C\", \"C\", \"C\", \"C\", \"C\", \"C\", \"C\", \"C\", \"Z\"]]], \"edgecolors\": [\"#000000\"], \"edgewidths\": [1.0], \"offsets\": \"data01\", \"yindex\": 1, \"id\": \"el621194698170960\", \"pathtransforms\": [[12.372809695177827, 0.0, 0.0, 12.372809695177827, 0.0, 0.0]], \"pathcoordinates\": \"display\", \"offsetcoordinates\": \"data\", \"zorder\": 1, \"xindex\": 0, \"alphas\": [0.7], \"facecolors\": [\"#004924\", \"#00273B\", \"#003B7D\", \"#001361\", \"#007F00\", \"#005E93\", \"#00571B\", \"#003B7D\", \"#002E36\", \"#FFFFFF\", \"#001966\", \"#003C2C\", \"#007C02\", \"#003579\", \"#000B5D\", \"#000750\", \"#003F2B\", \"#004080\", \"#000B5D\", \"#001C41\"]}], \"xscale\": \"linear\", \"bbox\": [0.125, 0.125, 0.77500000000000002, 0.77500000000000002]}], \"height\": 400.0, \"width\": 480.0, \"plugins\": [{\"type\": \"reset\"}, {\"enabled\": false, \"button\": true, \"type\": \"zoom\"}, {\"enabled\": false, \"button\": true, \"type\": \"boxzoom\"}], \"data\": {\"data01\": [[34.0, 60.0], [36.0, 70.0], [30.0, 99.0], [75.0, 87.0], [34.0, 44.0], [36.0, 109.0], [30.0, 56.0], [75.0, 99.0], [34.0, 68.0], [36.0, 156.0], [30.0, 89.0], [75.0, 64.0], [34.0, 45.0], [36.0, 97.0], [30.0, 85.0], [75.0, 79.0], [34.0, 63.0], [36.0, 100.0], [30.0, 85.0], [75.0, 73.0]]}, \"id\": \"el621194660513808\"});\n",
       "            })\n",
       "         });\n",
       "}\n",
       "</script>"
      ],
      "text/plain": [
       "<matplotlib.figure.Figure at 0x115c9cc10>"
      ]
     },
     "metadata": {},
     "output_type": "display_data"
    }
   ],
   "source": [
    "# test scatter plot\n",
    "from pixiedust.display import *\n",
    "sqlContext = SQLContext(sc)\n",
    "dd = sqlContext.createDataFrame([\n",
    " (\"a\", \"Alice\", 34, 60),\n",
    " (\"b\", \"Bob\", 36, 70),\n",
    " (\"c\", \"Charlie\", 30, 99),\n",
    " (\"d\", \"Hector\", 75, 87),\n",
    " (\"a\", \"Alice\", 34, 44),\n",
    " (\"b\", \"Bob\", 36, 109),\n",
    " (\"c\", \"Charlie\", 30, 56),\n",
    " (\"d\", \"Hector\", 75, 99),\n",
    " (\"a\", \"Alice\", 34, 68),\n",
    " (\"b\", \"Bob\", 36, 156),\n",
    " (\"c\", \"Charlie\", 30, 89),\n",
    " (\"d\", \"Hector\", 75, 64),\n",
    " (\"a\", \"Alice\", 34, 45),\n",
    " (\"b\", \"Bob\", 36, 97),\n",
    " (\"c\", \"Charlie\", 30, 85),\n",
    " (\"d\", \"Hector\", 75, 79),\n",
    " (\"a\", \"Alice\", 34, 63),\n",
    " (\"b\", \"Bob\", 36, 100),\n",
    " (\"c\", \"Charlie\", 30, 85),\n",
    " (\"d\", \"Hector\", 75, 73)\n",
    "], [\"id\", \"name\", \"age\", \"weight\"])\n",
    "\n",
    "display(dd)"
   ]
  },
  {
   "cell_type": "code",
   "execution_count": 1,
   "metadata": {
    "collapsed": false
   },
   "outputs": [
    {
     "data": {
      "image/png": "[encoded data removed]",
      "text/html": [
       "\n",
       "\n",
       "<style>\n",
       "\n",
       "</style>\n",
       "\n",
       "<div id=\"fig_el6166246595495203831249482\"></div>\n",
       "<script>\n",
       "function mpld3_load_lib(url, callback){\n",
       "  var s = document.createElement('script');\n",
       "  s.src = url;\n",
       "  s.async = true;\n",
       "  s.onreadystatechange = s.onload = callback;\n",
       "  s.onerror = function(){console.warn(\"failed to load library \" + url);};\n",
       "  document.getElementsByTagName(\"head\")[0].appendChild(s);\n",
       "}\n",
       "\n",
       "if(typeof(mpld3) !== \"undefined\" && mpld3._mpld3IsLoaded){\n",
       "   // already loaded: just create the figure\n",
       "   !function(mpld3){\n",
       "       \n",
       "       mpld3.draw_figure(\"fig_el6166246595495203831249482\", {\"axes\": [{\"xlim\": [0.0, 1.0], \"yscale\": \"linear\", \"axesbg\": \"#EEEEEE\", \"texts\": [], \"zoomable\": true, \"images\": [], \"xdomain\": [0.0, 1.0], \"ylim\": [0.0, 1.0], \"paths\": [], \"sharey\": [], \"sharex\": [], \"axesbgalpha\": null, \"axes\": [{\"scale\": \"linear\", \"tickformat\": null, \"grid\": {\"color\": \"#FFFFFF\", \"alpha\": 1.0, \"dasharray\": \"10,0\", \"gridOn\": true}, \"fontsize\": 11.0, \"position\": \"bottom\", \"nticks\": 6, \"tickvalues\": null}, {\"scale\": \"linear\", \"tickformat\": null, \"grid\": {\"color\": \"#FFFFFF\", \"alpha\": 1.0, \"dasharray\": \"10,0\", \"gridOn\": true}, \"fontsize\": 11.0, \"position\": \"left\", \"nticks\": 6, \"tickvalues\": null}], \"lines\": [], \"markers\": [], \"id\": \"el616624659551056\", \"ydomain\": [0.0, 1.0], \"collections\": [], \"xscale\": \"linear\", \"bbox\": [0.125, 0.125, 0.77500000000000002, 0.77500000000000002]}], \"height\": 360.0, \"width\": 640.0, \"plugins\": [{\"type\": \"reset\"}, {\"enabled\": false, \"button\": true, \"type\": \"zoom\"}, {\"enabled\": false, \"button\": true, \"type\": \"boxzoom\"}], \"data\": {}, \"id\": \"el616624659549520\"});\n",
       "   }(mpld3);\n",
       "}else if(typeof define === \"function\" && define.amd){\n",
       "   // require.js is available: use it to load d3/mpld3\n",
       "   require.config({paths: {d3: \"https://mpld3.github.io/js/d3.v3.min\"}});\n",
       "   require([\"d3\"], function(d3){\n",
       "      window.d3 = d3;\n",
       "      mpld3_load_lib(\"https://mpld3.github.io/js/mpld3.v0.2.js\", function(){\n",
       "         \n",
       "         mpld3.draw_figure(\"fig_el6166246595495203831249482\", {\"axes\": [{\"xlim\": [0.0, 1.0], \"yscale\": \"linear\", \"axesbg\": \"#EEEEEE\", \"texts\": [], \"zoomable\": true, \"images\": [], \"xdomain\": [0.0, 1.0], \"ylim\": [0.0, 1.0], \"paths\": [], \"sharey\": [], \"sharex\": [], \"axesbgalpha\": null, \"axes\": [{\"scale\": \"linear\", \"tickformat\": null, \"grid\": {\"color\": \"#FFFFFF\", \"alpha\": 1.0, \"dasharray\": \"10,0\", \"gridOn\": true}, \"fontsize\": 11.0, \"position\": \"bottom\", \"nticks\": 6, \"tickvalues\": null}, {\"scale\": \"linear\", \"tickformat\": null, \"grid\": {\"color\": \"#FFFFFF\", \"alpha\": 1.0, \"dasharray\": \"10,0\", \"gridOn\": true}, \"fontsize\": 11.0, \"position\": \"left\", \"nticks\": 6, \"tickvalues\": null}], \"lines\": [], \"markers\": [], \"id\": \"el616624659551056\", \"ydomain\": [0.0, 1.0], \"collections\": [], \"xscale\": \"linear\", \"bbox\": [0.125, 0.125, 0.77500000000000002, 0.77500000000000002]}], \"height\": 360.0, \"width\": 640.0, \"plugins\": [{\"type\": \"reset\"}, {\"enabled\": false, \"button\": true, \"type\": \"zoom\"}, {\"enabled\": false, \"button\": true, \"type\": \"boxzoom\"}], \"data\": {}, \"id\": \"el616624659549520\"});\n",
       "      });\n",
       "    });\n",
       "}else{\n",
       "    // require.js not available: dynamically load d3 & mpld3\n",
       "    mpld3_load_lib(\"https://mpld3.github.io/js/d3.v3.min.js\", function(){\n",
       "         mpld3_load_lib(\"https://mpld3.github.io/js/mpld3.v0.2.js\", function(){\n",
       "                 \n",
       "                 mpld3.draw_figure(\"fig_el6166246595495203831249482\", {\"axes\": [{\"xlim\": [0.0, 1.0], \"yscale\": \"linear\", \"axesbg\": \"#EEEEEE\", \"texts\": [], \"zoomable\": true, \"images\": [], \"xdomain\": [0.0, 1.0], \"ylim\": [0.0, 1.0], \"paths\": [], \"sharey\": [], \"sharex\": [], \"axesbgalpha\": null, \"axes\": [{\"scale\": \"linear\", \"tickformat\": null, \"grid\": {\"color\": \"#FFFFFF\", \"alpha\": 1.0, \"dasharray\": \"10,0\", \"gridOn\": true}, \"fontsize\": 11.0, \"position\": \"bottom\", \"nticks\": 6, \"tickvalues\": null}, {\"scale\": \"linear\", \"tickformat\": null, \"grid\": {\"color\": \"#FFFFFF\", \"alpha\": 1.0, \"dasharray\": \"10,0\", \"gridOn\": true}, \"fontsize\": 11.0, \"position\": \"left\", \"nticks\": 6, \"tickvalues\": null}], \"lines\": [], \"markers\": [], \"id\": \"el616624659551056\", \"ydomain\": [0.0, 1.0], \"collections\": [], \"xscale\": \"linear\", \"bbox\": [0.125, 0.125, 0.77500000000000002, 0.77500000000000002]}], \"height\": 360.0, \"width\": 640.0, \"plugins\": [{\"type\": \"reset\"}, {\"enabled\": false, \"button\": true, \"type\": \"zoom\"}, {\"enabled\": false, \"button\": true, \"type\": \"boxzoom\"}], \"data\": {}, \"id\": \"el616624659549520\"});\n",
       "            })\n",
       "         });\n",
       "}\n",
       "</script>"
      ],
      "text/plain": [
       "<matplotlib.figure.Figure at 0x115bb1550>"
      ]
     },
     "metadata": {},
     "output_type": "display_data"
    }
   ],
   "source": [
    "# test scatter plot\n",
    "from pixiedust.display import *\n",
    "sqlContext = SQLContext(sc)\n",
    "dd = sqlContext.createDataFrame([\n",
    " (\"a\", \"Alice\", 34, 60, 1),\n",
    " (\"b\", \"Bob\", 36, 70, 2),\n",
    " (\"c\", \"Charlie\", 30, 99, 6),\n",
    " (\"d\", \"Hector\", 75, 87, 9),\n",
    " (\"a\", \"Alice\", 34, 44, 12),\n",
    " (\"b\", \"Bob\", 36, 109, 33),\n",
    " (\"c\", \"Charlie\", 30, 56, 77),\n",
    " (\"d\", \"Hector\", 75, 99, 2),\n",
    " (\"a\", \"Alice\", 34, 68, 7),\n",
    " (\"b\", \"Bob\", 36, 156, 54),\n",
    " (\"c\", \"Charlie\", 30, 89, 23),\n",
    " (\"d\", \"Hector\", 75, 64, 88),\n",
    " (\"a\", \"Alice\", 34, 45, 44),\n",
    " (\"b\", \"Bob\", 36, 97, 33),\n",
    " (\"c\", \"Charlie\", 30, 85, 41),\n",
    " (\"d\", \"Hector\", 75, 79, 6),\n",
    " (\"a\", \"Alice\", 34, 63, 9),\n",
    " (\"b\", \"Bob\", 36, 100, 28),\n",
    " (\"c\", \"Charlie\", 30, 85, 12),\n",
    " (\"d\", \"Hector\", 75, 73, 9)\n",
    "], [\"id\", \"name\", \"age\", \"weight\", \"something\"])\n",
    "\n",
    "display(dd)"
   ]
  },
  {
   "cell_type": "code",
   "execution_count": 1,
   "metadata": {
    "collapsed": false
   },
   "outputs": [
    {
     "name": "stdout",
     "output_type": "stream",
     "text": [
      "Opened database successfully\n",
      "Package already installed: graphframes:graphframes:0\n",
      "graphframes:graphframes:0.1.0-spark1.6 => /Users/margriet/data/libs/graphframes-0.1.0-spark1.6.jar\n"
     ]
    }
   ],
   "source": [
    "from pixiedust.packageManager import PackageManager\n",
    "pkg=PackageManager()\n",
    "pkg.installPackage(\"graphframes:graphframes:0\",base=\"http://dl.bintray.com/spark-packages/maven\",sc=sc)\n",
    "pkg.printAllPackages()"
   ]
  },
  {
   "cell_type": "code",
   "execution_count": 2,
   "metadata": {
    "collapsed": false
   },
   "outputs": [
    {
     "data": {
      "text/html": [
       "Unable to find two numerical columns in the dataframe"
      ],
      "text/plain": [
       "<IPython.core.display.HTML object>"
      ]
     },
     "metadata": {},
     "output_type": "display_data"
    }
   ],
   "source": [
    "from pixiedust.display import *\n",
    "sqlContext = SQLContext(sc)\n",
    "dd = sqlContext.createDataFrame([\n",
    " (\"a\", \"Alice\", 34),\n",
    " (\"b\", \"Bob\", 36),\n",
    " (\"c\", \"Charlie\", 30),\n",
    " (\"d\", \"Hector\", 75),\n",
    " (\"a\", \"Alice\", 34),\n",
    " (\"b\", \"Bob\", 36),\n",
    " (\"c\", \"Charlie\", 30),\n",
    " (\"d\", \"Hector\", 75),\n",
    " (\"a\", \"Alice\", 34),\n",
    " (\"b\", \"Bob\", 36),\n",
    " (\"c\", \"Charlie\", 30),\n",
    " (\"d\", \"Hector\", 75),\n",
    " (\"a\", \"Alice\", 34),\n",
    " (\"b\", \"Bob\", 36),\n",
    " (\"c\", \"Charlie\", 30),\n",
    " (\"d\", \"Hector\", 75),\n",
    " (\"a\", \"Alice\", 34),\n",
    " (\"b\", \"Bob\", 36),\n",
    " (\"c\", \"Charlie\", 30),\n",
    " (\"d\", \"Hector\", 75)\n",
    "], [\"id\", \"name\", \"age\"])\n",
    "\n",
    "display(dd)"
   ]
  },
  {
   "cell_type": "code",
   "execution_count": 4,
   "metadata": {
    "collapsed": false,
    "scrolled": true
   },
   "outputs": [
    {
     "data": {
      "text/html": [
       "\n",
       "            <div class=\"btn-group\" role=\"group\" style=\"margin-bottom:4px\">\n",
       "        \n",
       "                    <div class=\"btn-group btn-small\" style=\"padding-left: 4px; padding-right: 4px;\">\n",
       "                        <a class=\"btn btn-small display-type-button btn-default\" title=\"Table\" style=\"text-decoration:none\">\n",
       "                            <i class=\"fa fa-table\"></i>\n",
       "                        </a>\n",
       "                        <a class=\"btn btn-small dropdown-toggle btn-default\" data-toggle=\"dropdown\">\n",
       "                            <b class=\"caret\"></b>\n",
       "                        </a>\n",
       "                        <div class=\"dropdown-menu\" role=\"menu\">\n",
       "                            <div class=\"row-fluid\" style=\"width: 220px;\">\n",
       "                                <ul class=\"span6 multicol-menu\">\n",
       "                \n",
       "                                    <li>\n",
       "                                        <a href=\"#\" class=\"display-type-button\" id=\"menu1e7dcda4-vertices\" style=\"text-decoration:none\">\n",
       "                                            <i class=\"fa fa-location-arrow\"></i>\n",
       "                                            Graph Vertices\n",
       "                                        </a>\n",
       "                                        \n",
       "            <script>\n",
       "                $('#menu1e7dcda4-vertices').on('click', function () {\n",
       "                    //Resend the display command\n",
       "                    var callbacks = {\n",
       "                        iopub:{\n",
       "                            output:function(msg){\n",
       "                                var msg_type=msg.header.msg_type;\n",
       "                                var content = msg.content;\n",
       "                                if(msg_type===\"stream\"){\n",
       "                                    $('#wrapperHTML1e7dcda4').html(content.text);\n",
       "                                }else if (msg_type===\"display_data\" || msg_type===\"execute_result\"){\n",
       "                                    if (content.data[\"text/html\"]){\n",
       "                                        $('#wrapperHTML1e7dcda4').html(content.data[\"text/html\"]);\n",
       "                                    }                                    \n",
       "                                    if (content.data[\"application/javascript\"]){\n",
       "                                        $('#wrapperJS1e7dcda4').html(\"<script type=\\\"text/javascript\\\">\"+content.data[\"application/javascript\"]+\"</s\" + \"cript>\");\n",
       "                                    }\n",
       "                                }else if (msg_type === \"error\") {\n",
       "                                    var errorHTML=\"<p>\"+content.ename+\"</p>\";\n",
       "                                    errorHTML+=\"<p>\"+content.evalue+\"</p>\";\n",
       "                                    errorHTML+=\"<pre>\" + content.traceback+\"</pre>\";\n",
       "                                    $('#wrapperHTML1e7dcda4').html(errorHTML);\n",
       "                                }\n",
       "                                console.log(\"msg\", msg);\n",
       "                            }\n",
       "                        }\n",
       "                    }\n",
       "                    \n",
       "                    console.log(\"Running command: display(g,handlerId='vertices')\");\n",
       "                    $('#wrapperJS1e7dcda4').html(\"\")\n",
       "                    $('#wrapperHTML1e7dcda4').html('<div style=\"width:100px;height:60px;left:47%;position:relative\"><i class=\"fa fa-circle-o-notch fa-spin\" style=\"font-size:48px\"></i></div>'+\n",
       "                    '<div style=\"text-align:center\">Loading your data. Please wait...</div>');\n",
       "                    IPython.notebook.session.kernel.execute(\"display(g,handlerId='vertices')\", callbacks, {silent:false, store_history:false});\n",
       "                })\n",
       "            </script>\n",
       "        \n",
       "                                    </li>\n",
       "                    \n",
       "                                    <li>\n",
       "                                        <a href=\"#\" class=\"display-type-button\" id=\"menu1e7dcda4-edges\" style=\"text-decoration:none\">\n",
       "                                            <i class=\"fa fa-link\"></i>\n",
       "                                            Graph Edges\n",
       "                                        </a>\n",
       "                                        \n",
       "            <script>\n",
       "                $('#menu1e7dcda4-edges').on('click', function () {\n",
       "                    //Resend the display command\n",
       "                    var callbacks = {\n",
       "                        iopub:{\n",
       "                            output:function(msg){\n",
       "                                var msg_type=msg.header.msg_type;\n",
       "                                var content = msg.content;\n",
       "                                if(msg_type===\"stream\"){\n",
       "                                    $('#wrapperHTML1e7dcda4').html(content.text);\n",
       "                                }else if (msg_type===\"display_data\" || msg_type===\"execute_result\"){\n",
       "                                    if (content.data[\"text/html\"]){\n",
       "                                        $('#wrapperHTML1e7dcda4').html(content.data[\"text/html\"]);\n",
       "                                    }                                    \n",
       "                                    if (content.data[\"application/javascript\"]){\n",
       "                                        $('#wrapperJS1e7dcda4').html(\"<script type=\\\"text/javascript\\\">\"+content.data[\"application/javascript\"]+\"</s\" + \"cript>\");\n",
       "                                    }\n",
       "                                }else if (msg_type === \"error\") {\n",
       "                                    var errorHTML=\"<p>\"+content.ename+\"</p>\";\n",
       "                                    errorHTML+=\"<p>\"+content.evalue+\"</p>\";\n",
       "                                    errorHTML+=\"<pre>\" + content.traceback+\"</pre>\";\n",
       "                                    $('#wrapperHTML1e7dcda4').html(errorHTML);\n",
       "                                }\n",
       "                                console.log(\"msg\", msg);\n",
       "                            }\n",
       "                        }\n",
       "                    }\n",
       "                    \n",
       "                    console.log(\"Running command: display(g,handlerId='edges')\");\n",
       "                    $('#wrapperJS1e7dcda4').html(\"\")\n",
       "                    $('#wrapperHTML1e7dcda4').html('<div style=\"width:100px;height:60px;left:47%;position:relative\"><i class=\"fa fa-circle-o-notch fa-spin\" style=\"font-size:48px\"></i></div>'+\n",
       "                    '<div style=\"text-align:center\">Loading your data. Please wait...</div>');\n",
       "                    IPython.notebook.session.kernel.execute(\"display(g,handlerId='edges')\", callbacks, {silent:false, store_history:false});\n",
       "                })\n",
       "            </script>\n",
       "        \n",
       "                                    </li>\n",
       "                    \n",
       "                                </ul>\n",
       "                            </div>\n",
       "                        </div>\n",
       "                    </div>\n",
       "                \n",
       "            </div>\n",
       "            <div id=\"wrapperJS1e7dcda4\"></div>\n",
       "            <div id=\"wrapperHTML1e7dcda4\">\n",
       "        <table class=\"table table-striped\"><thead><th>id</th><th>name</th><th>age</th></thead><tbody><tr><td>a</td><td>Alice</td><td>34</td></tr><tr><td>b</td><td>Bob</td><td>36</td></tr><tr><td>c</td><td>Charlie</td><td>30</td></tr><tr><td>d</td><td>David</td><td>29</td></tr><tr><td>e</td><td>Esther</td><td>32</td></tr><tr><td>f</td><td>Fanny</td><td>36</td></tr></tbody></table></div>"
      ],
      "text/plain": [
       "<IPython.core.display.HTML object>"
      ]
     },
     "metadata": {},
     "output_type": "display_data"
    }
   ],
   "source": [
    "#import the Graphs example\n",
    "from graphframes.examples import Graphs\n",
    "#create the friends example graph\n",
    "g=Graphs(sqlContext).friends()\n",
    "#use the pixiedust display\n",
    "display(g)"
   ]
  },
  {
   "cell_type": "code",
   "execution_count": null,
   "metadata": {
    "collapsed": true
   },
   "outputs": [],
   "source": []
  }
 ],
 "metadata": {
  "kernelspec": {
   "display_name": "pySpark (Spark 1.6.0) Python 2",
   "language": "python",
   "name": "pyspark1.6"
  },
  "language_info": {
   "codemirror_mode": {
    "name": "ipython",
    "version": 2
   },
   "file_extension": ".py",
   "mimetype": "text/x-python",
   "name": "python",
   "nbconvert_exporter": "python",
   "pygments_lexer": "ipython2",
   "version": "2.7.12"
  }
 },
 "nbformat": 4,
 "nbformat_minor": 0
}
